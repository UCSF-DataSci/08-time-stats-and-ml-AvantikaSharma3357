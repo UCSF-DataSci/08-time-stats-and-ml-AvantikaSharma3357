{
 "cells": [
  {
   "cell_type": "code",
   "execution_count": null,
   "metadata": {},
   "outputs": [],
   "source": []
  },
  {
   "cell_type": "markdown",
   "metadata": {},
   "source": [
    "# Assignment 8\n",
    "\n",
    "# Submission Requirements:\n",
    "\n",
    "Submit a Jupyter notebook named modeling.ipynb containing:\n",
    "1. Clear markdown cells explaining your approach\n",
    "2. Well-commented code cells showing your analysis\n",
    "3. Visualizations of results where appropriate\n",
    "4. Interpretations of your findings\n",
    "5. Your notebook should demonstrate proper data handling, statistical analysis, and machine learning practices as covered in the lectures.\n"
   ]
  },
  {
   "cell_type": "markdown",
   "metadata": {},
   "source": [
    "# Data Source\n",
    "\n",
    "The data is generated using `generate_health_data.py`, which creates three tab-separated (TSV) datasets:\n",
    "\n",
    "1. `patient_baseline.csv`: Patient demographics and initial measurements\n",
    "   - `patient_id`: Unique identifier\n",
    "   - `age`: Age in years\n",
    "   - `sex`: Binary (0=male, 1=female)\n",
    "   - `bmi`: Body mass index\n",
    "   - `smoking`: Binary smoking status\n",
    "   - `diabetes`: Binary diabetes status\n",
    "   - `bp_systolic`: Systolic blood pressure\n",
    "   - `cholesterol`: Total cholesterol\n",
    "   - `heart_rate`: Heart rate\n",
    "\n",
    "2. `patient_longitudinal.csv`: Blood pressure and heart rate measurements over time\n",
    "   - `patient_id`: Unique identifier\n",
    "   - `visit_date`: Date of measurement (YYYY-MM-DD)\n",
    "   - `bp_systolic`: Systolic blood pressure\n",
    "   - `heart_rate`: Heart rate\n",
    "   - `adverse_event`: Binary indicator of cardiovascular event\n",
    "   - Plus baseline characteristics\n",
    "\n",
    "3. `patient_treatment.csv`: Treatment assignments and outcomes\n",
    "   - All baseline characteristics\n",
    "   - `treatment`: Binary indicator of receiving treatment\n",
    "   - `adherence`: Percentage of prescribed medication taken\n",
    "   - `outcome`: Binary indicator of reaching treatment goal"
   ]
  },
  {
   "cell_type": "markdown",
   "metadata": {},
   "source": [
    "# Importing all necessary libraries"
   ]
  },
  {
   "cell_type": "code",
   "execution_count": 85,
   "metadata": {},
   "outputs": [],
   "source": [
    "import numpy as np\n",
    "import pandas as pd\n",
    "import matplotlib.pyplot as plt\n",
    "import seaborn as sns\n",
    "import statsmodels.api as sm\n"
   ]
  },
  {
   "cell_type": "markdown",
   "metadata": {},
   "source": [
    "# Importing our datasets and running exploratory data analysis\n",
    "\n",
    "In this section, we will be importing all our datasets into dataframes and running EDA on them so that we may better understand the data."
   ]
  },
  {
   "cell_type": "markdown",
   "metadata": {},
   "source": [
    "## Baseline Dataset"
   ]
  },
  {
   "cell_type": "code",
   "execution_count": 11,
   "metadata": {},
   "outputs": [
    {
     "data": {
      "text/html": [
       "<div>\n",
       "<style scoped>\n",
       "    .dataframe tbody tr th:only-of-type {\n",
       "        vertical-align: middle;\n",
       "    }\n",
       "\n",
       "    .dataframe tbody tr th {\n",
       "        vertical-align: top;\n",
       "    }\n",
       "\n",
       "    .dataframe thead th {\n",
       "        text-align: right;\n",
       "    }\n",
       "</style>\n",
       "<table border=\"1\" class=\"dataframe\">\n",
       "  <thead>\n",
       "    <tr style=\"text-align: right;\">\n",
       "      <th></th>\n",
       "      <th>patient_id</th>\n",
       "      <th>age</th>\n",
       "      <th>sex</th>\n",
       "      <th>bmi</th>\n",
       "      <th>smoking</th>\n",
       "      <th>diabetes</th>\n",
       "      <th>bp_systolic</th>\n",
       "      <th>cholesterol</th>\n",
       "      <th>heart_rate</th>\n",
       "    </tr>\n",
       "  </thead>\n",
       "  <tbody>\n",
       "    <tr>\n",
       "      <th>0</th>\n",
       "      <td>0</td>\n",
       "      <td>57.5</td>\n",
       "      <td>0</td>\n",
       "      <td>25.8</td>\n",
       "      <td>0</td>\n",
       "      <td>0</td>\n",
       "      <td>108.7</td>\n",
       "      <td>257.9</td>\n",
       "      <td>79.3</td>\n",
       "    </tr>\n",
       "    <tr>\n",
       "      <th>1</th>\n",
       "      <td>1</td>\n",
       "      <td>47.9</td>\n",
       "      <td>0</td>\n",
       "      <td>23.2</td>\n",
       "      <td>0</td>\n",
       "      <td>0</td>\n",
       "      <td>149.4</td>\n",
       "      <td>155.9</td>\n",
       "      <td>75.4</td>\n",
       "    </tr>\n",
       "    <tr>\n",
       "      <th>2</th>\n",
       "      <td>2</td>\n",
       "      <td>59.7</td>\n",
       "      <td>1</td>\n",
       "      <td>29.0</td>\n",
       "      <td>0</td>\n",
       "      <td>0</td>\n",
       "      <td>136.7</td>\n",
       "      <td>220.7</td>\n",
       "      <td>85.0</td>\n",
       "    </tr>\n",
       "    <tr>\n",
       "      <th>3</th>\n",
       "      <td>3</td>\n",
       "      <td>72.8</td>\n",
       "      <td>1</td>\n",
       "      <td>34.6</td>\n",
       "      <td>0</td>\n",
       "      <td>1</td>\n",
       "      <td>141.0</td>\n",
       "      <td>205.7</td>\n",
       "      <td>78.0</td>\n",
       "    </tr>\n",
       "    <tr>\n",
       "      <th>4</th>\n",
       "      <td>4</td>\n",
       "      <td>46.5</td>\n",
       "      <td>0</td>\n",
       "      <td>17.5</td>\n",
       "      <td>0</td>\n",
       "      <td>0</td>\n",
       "      <td>129.0</td>\n",
       "      <td>186.8</td>\n",
       "      <td>95.2</td>\n",
       "    </tr>\n",
       "  </tbody>\n",
       "</table>\n",
       "</div>"
      ],
      "text/plain": [
       "   patient_id   age  sex   bmi  smoking  diabetes  bp_systolic  cholesterol  \\\n",
       "0           0  57.5    0  25.8        0         0        108.7        257.9   \n",
       "1           1  47.9    0  23.2        0         0        149.4        155.9   \n",
       "2           2  59.7    1  29.0        0         0        136.7        220.7   \n",
       "3           3  72.8    1  34.6        0         1        141.0        205.7   \n",
       "4           4  46.5    0  17.5        0         0        129.0        186.8   \n",
       "\n",
       "   heart_rate  \n",
       "0        79.3  \n",
       "1        75.4  \n",
       "2        85.0  \n",
       "3        78.0  \n",
       "4        95.2  "
      ]
     },
     "execution_count": 11,
     "metadata": {},
     "output_type": "execute_result"
    }
   ],
   "source": [
    "baseline = pd.read_csv('patient_baseline.csv', delimiter='\\t')\n",
    "\n",
    "baseline.head()"
   ]
  },
  {
   "cell_type": "code",
   "execution_count": 12,
   "metadata": {},
   "outputs": [
    {
     "name": "stdout",
     "output_type": "stream",
     "text": [
      "<class 'pandas.core.frame.DataFrame'>\n",
      "RangeIndex: 1000 entries, 0 to 999\n",
      "Data columns (total 9 columns):\n",
      " #   Column       Non-Null Count  Dtype  \n",
      "---  ------       --------------  -----  \n",
      " 0   patient_id   1000 non-null   int64  \n",
      " 1   age          1000 non-null   float64\n",
      " 2   sex          1000 non-null   int64  \n",
      " 3   bmi          1000 non-null   float64\n",
      " 4   smoking      1000 non-null   int64  \n",
      " 5   diabetes     1000 non-null   int64  \n",
      " 6   bp_systolic  1000 non-null   float64\n",
      " 7   cholesterol  1000 non-null   float64\n",
      " 8   heart_rate   1000 non-null   float64\n",
      "dtypes: float64(5), int64(4)\n",
      "memory usage: 70.4 KB\n"
     ]
    }
   ],
   "source": [
    "baseline.info()"
   ]
  },
  {
   "cell_type": "code",
   "execution_count": 13,
   "metadata": {},
   "outputs": [
    {
     "data": {
      "text/html": [
       "<div>\n",
       "<style scoped>\n",
       "    .dataframe tbody tr th:only-of-type {\n",
       "        vertical-align: middle;\n",
       "    }\n",
       "\n",
       "    .dataframe tbody tr th {\n",
       "        vertical-align: top;\n",
       "    }\n",
       "\n",
       "    .dataframe thead th {\n",
       "        text-align: right;\n",
       "    }\n",
       "</style>\n",
       "<table border=\"1\" class=\"dataframe\">\n",
       "  <thead>\n",
       "    <tr style=\"text-align: right;\">\n",
       "      <th></th>\n",
       "      <th>patient_id</th>\n",
       "      <th>age</th>\n",
       "      <th>sex</th>\n",
       "      <th>bmi</th>\n",
       "      <th>smoking</th>\n",
       "      <th>diabetes</th>\n",
       "      <th>bp_systolic</th>\n",
       "      <th>cholesterol</th>\n",
       "      <th>heart_rate</th>\n",
       "    </tr>\n",
       "  </thead>\n",
       "  <tbody>\n",
       "    <tr>\n",
       "      <th>count</th>\n",
       "      <td>1000.000000</td>\n",
       "      <td>1000.000000</td>\n",
       "      <td>1000.000000</td>\n",
       "      <td>1000.000000</td>\n",
       "      <td>1000.000000</td>\n",
       "      <td>1000.000000</td>\n",
       "      <td>1000.000000</td>\n",
       "      <td>1000.000000</td>\n",
       "      <td>1000.0000</td>\n",
       "    </tr>\n",
       "    <tr>\n",
       "      <th>mean</th>\n",
       "      <td>499.500000</td>\n",
       "      <td>50.319300</td>\n",
       "      <td>0.515000</td>\n",
       "      <td>27.095600</td>\n",
       "      <td>0.274000</td>\n",
       "      <td>0.282000</td>\n",
       "      <td>134.552400</td>\n",
       "      <td>205.390400</td>\n",
       "      <td>77.4556</td>\n",
       "    </tr>\n",
       "    <tr>\n",
       "      <th>std</th>\n",
       "      <td>288.819436</td>\n",
       "      <td>14.470555</td>\n",
       "      <td>0.500025</td>\n",
       "      <td>4.882655</td>\n",
       "      <td>0.446232</td>\n",
       "      <td>0.450198</td>\n",
       "      <td>12.408951</td>\n",
       "      <td>22.125587</td>\n",
       "      <td>11.5321</td>\n",
       "    </tr>\n",
       "    <tr>\n",
       "      <th>min</th>\n",
       "      <td>0.000000</td>\n",
       "      <td>18.000000</td>\n",
       "      <td>0.000000</td>\n",
       "      <td>15.000000</td>\n",
       "      <td>0.000000</td>\n",
       "      <td>0.000000</td>\n",
       "      <td>97.500000</td>\n",
       "      <td>140.300000</td>\n",
       "      <td>44.5000</td>\n",
       "    </tr>\n",
       "    <tr>\n",
       "      <th>25%</th>\n",
       "      <td>249.750000</td>\n",
       "      <td>40.275000</td>\n",
       "      <td>0.000000</td>\n",
       "      <td>23.800000</td>\n",
       "      <td>0.000000</td>\n",
       "      <td>0.000000</td>\n",
       "      <td>125.875000</td>\n",
       "      <td>190.875000</td>\n",
       "      <td>69.4000</td>\n",
       "    </tr>\n",
       "    <tr>\n",
       "      <th>50%</th>\n",
       "      <td>499.500000</td>\n",
       "      <td>50.400000</td>\n",
       "      <td>1.000000</td>\n",
       "      <td>27.000000</td>\n",
       "      <td>0.000000</td>\n",
       "      <td>0.000000</td>\n",
       "      <td>134.400000</td>\n",
       "      <td>205.350000</td>\n",
       "      <td>77.7000</td>\n",
       "    </tr>\n",
       "    <tr>\n",
       "      <th>75%</th>\n",
       "      <td>749.250000</td>\n",
       "      <td>59.700000</td>\n",
       "      <td>1.000000</td>\n",
       "      <td>30.300000</td>\n",
       "      <td>1.000000</td>\n",
       "      <td>1.000000</td>\n",
       "      <td>142.425000</td>\n",
       "      <td>219.500000</td>\n",
       "      <td>85.5000</td>\n",
       "    </tr>\n",
       "    <tr>\n",
       "      <th>max</th>\n",
       "      <td>999.000000</td>\n",
       "      <td>90.000000</td>\n",
       "      <td>1.000000</td>\n",
       "      <td>43.000000</td>\n",
       "      <td>1.000000</td>\n",
       "      <td>1.000000</td>\n",
       "      <td>177.300000</td>\n",
       "      <td>293.100000</td>\n",
       "      <td>112.6000</td>\n",
       "    </tr>\n",
       "  </tbody>\n",
       "</table>\n",
       "</div>"
      ],
      "text/plain": [
       "        patient_id          age          sex          bmi      smoking  \\\n",
       "count  1000.000000  1000.000000  1000.000000  1000.000000  1000.000000   \n",
       "mean    499.500000    50.319300     0.515000    27.095600     0.274000   \n",
       "std     288.819436    14.470555     0.500025     4.882655     0.446232   \n",
       "min       0.000000    18.000000     0.000000    15.000000     0.000000   \n",
       "25%     249.750000    40.275000     0.000000    23.800000     0.000000   \n",
       "50%     499.500000    50.400000     1.000000    27.000000     0.000000   \n",
       "75%     749.250000    59.700000     1.000000    30.300000     1.000000   \n",
       "max     999.000000    90.000000     1.000000    43.000000     1.000000   \n",
       "\n",
       "          diabetes  bp_systolic  cholesterol  heart_rate  \n",
       "count  1000.000000  1000.000000  1000.000000   1000.0000  \n",
       "mean      0.282000   134.552400   205.390400     77.4556  \n",
       "std       0.450198    12.408951    22.125587     11.5321  \n",
       "min       0.000000    97.500000   140.300000     44.5000  \n",
       "25%       0.000000   125.875000   190.875000     69.4000  \n",
       "50%       0.000000   134.400000   205.350000     77.7000  \n",
       "75%       1.000000   142.425000   219.500000     85.5000  \n",
       "max       1.000000   177.300000   293.100000    112.6000  "
      ]
     },
     "execution_count": 13,
     "metadata": {},
     "output_type": "execute_result"
    }
   ],
   "source": [
    "baseline.describe()"
   ]
  },
  {
   "cell_type": "code",
   "execution_count": 14,
   "metadata": {},
   "outputs": [
    {
     "data": {
      "text/plain": [
       "patient_id     0\n",
       "age            0\n",
       "sex            0\n",
       "bmi            0\n",
       "smoking        0\n",
       "diabetes       0\n",
       "bp_systolic    0\n",
       "cholesterol    0\n",
       "heart_rate     0\n",
       "dtype: int64"
      ]
     },
     "execution_count": 14,
     "metadata": {},
     "output_type": "execute_result"
    }
   ],
   "source": [
    "baseline.isnull().sum()"
   ]
  },
  {
   "cell_type": "markdown",
   "metadata": {},
   "source": [
    "Since 'sex', 'smoking', 'diabetes' are our only binary variables, let's see their value counts"
   ]
  },
  {
   "cell_type": "code",
   "execution_count": 20,
   "metadata": {},
   "outputs": [
    {
     "name": "stdout",
     "output_type": "stream",
     "text": [
      "Value counts for:  sex \n",
      " 1    515\n",
      "0    485\n",
      "Name: sex, dtype: int64 \n",
      "\n",
      "Value counts for:  smoking \n",
      " 0    726\n",
      "1    274\n",
      "Name: smoking, dtype: int64 \n",
      "\n",
      "Value counts for:  diabetes \n",
      " 0    718\n",
      "1    282\n",
      "Name: diabetes, dtype: int64 \n",
      "\n"
     ]
    }
   ],
   "source": [
    "for col in ['sex', 'smoking', 'diabetes']:\n",
    "    print(\"Value counts for: \", col, \"\\n\",baseline[col].value_counts(), \"\\n\")"
   ]
  },
  {
   "cell_type": "markdown",
   "metadata": {},
   "source": [
    "As is standard, we can assume that 0 means No and 1 means Yes for smoking and diabetes.\n",
    "\n",
    "\n",
    "Let's plot out the distributions of the numerical columns just to see."
   ]
  },
  {
   "cell_type": "code",
   "execution_count": 26,
   "metadata": {},
   "outputs": [
    {
     "data": {
      "image/png": "[encoded data removed]",
      "text/plain": [
       "<Figure size 864x576 with 6 Axes>"
      ]
     },
     "metadata": {
      "needs_background": "light"
     },
     "output_type": "display_data"
    }
   ],
   "source": [
    "numerical_columns = ['age', 'bmi', 'bp_systolic', 'cholesterol', 'heart_rate']\n",
    "\n",
    "baseline[numerical_columns].hist(bins=15, figsize=(12, 8))\n",
    "plt.suptitle(\"Distribution of Numerical Variables\")\n",
    "plt.show()"
   ]
  },
  {
   "cell_type": "code",
   "execution_count": 22,
   "metadata": {},
   "outputs": [
    {
     "data": {
      "image/png": "[encoded data removed]",
      "text/plain": [
       "<Figure size 432x288 with 2 Axes>"
      ]
     },
     "metadata": {
      "needs_background": "light"
     },
     "output_type": "display_data"
    }
   ],
   "source": [
    "correlation_matrix = baseline[numerical_columns].corr()\n",
    "sns.heatmap(correlation_matrix, annot=True, cmap='coolwarm', fmt=\".2f\")\n",
    "plt.title(\"Correlation Matrix of Numerical Variables\")\n",
    "plt.show()"
   ]
  },
  {
   "cell_type": "markdown",
   "metadata": {},
   "source": [
    "## Longitudinal Dataset"
   ]
  },
  {
   "cell_type": "code",
   "execution_count": 58,
   "metadata": {},
   "outputs": [
    {
     "data": {
      "text/html": [
       "<div>\n",
       "<style scoped>\n",
       "    .dataframe tbody tr th:only-of-type {\n",
       "        vertical-align: middle;\n",
       "    }\n",
       "\n",
       "    .dataframe tbody tr th {\n",
       "        vertical-align: top;\n",
       "    }\n",
       "\n",
       "    .dataframe thead th {\n",
       "        text-align: right;\n",
       "    }\n",
       "</style>\n",
       "<table border=\"1\" class=\"dataframe\">\n",
       "  <thead>\n",
       "    <tr style=\"text-align: right;\">\n",
       "      <th></th>\n",
       "      <th>patient_id</th>\n",
       "      <th>visit_date</th>\n",
       "      <th>bp_systolic</th>\n",
       "      <th>heart_rate</th>\n",
       "      <th>adverse_event</th>\n",
       "      <th>age</th>\n",
       "      <th>sex</th>\n",
       "      <th>bmi</th>\n",
       "      <th>smoking</th>\n",
       "      <th>diabetes</th>\n",
       "    </tr>\n",
       "  </thead>\n",
       "  <tbody>\n",
       "    <tr>\n",
       "      <th>0</th>\n",
       "      <td>0</td>\n",
       "      <td>2023-01-17</td>\n",
       "      <td>108.6</td>\n",
       "      <td>72.4</td>\n",
       "      <td>0</td>\n",
       "      <td>57.5</td>\n",
       "      <td>0.0</td>\n",
       "      <td>25.8</td>\n",
       "      <td>0.0</td>\n",
       "      <td>0.0</td>\n",
       "    </tr>\n",
       "    <tr>\n",
       "      <th>1</th>\n",
       "      <td>0</td>\n",
       "      <td>2023-02-22</td>\n",
       "      <td>104.8</td>\n",
       "      <td>71.9</td>\n",
       "      <td>0</td>\n",
       "      <td>57.5</td>\n",
       "      <td>0.0</td>\n",
       "      <td>25.8</td>\n",
       "      <td>0.0</td>\n",
       "      <td>0.0</td>\n",
       "    </tr>\n",
       "    <tr>\n",
       "      <th>2</th>\n",
       "      <td>0</td>\n",
       "      <td>2023-03-23</td>\n",
       "      <td>106.3</td>\n",
       "      <td>76.2</td>\n",
       "      <td>0</td>\n",
       "      <td>57.5</td>\n",
       "      <td>0.0</td>\n",
       "      <td>25.8</td>\n",
       "      <td>0.0</td>\n",
       "      <td>0.0</td>\n",
       "    </tr>\n",
       "    <tr>\n",
       "      <th>3</th>\n",
       "      <td>0</td>\n",
       "      <td>2023-04-16</td>\n",
       "      <td>110.8</td>\n",
       "      <td>76.5</td>\n",
       "      <td>0</td>\n",
       "      <td>57.5</td>\n",
       "      <td>0.0</td>\n",
       "      <td>25.8</td>\n",
       "      <td>0.0</td>\n",
       "      <td>0.0</td>\n",
       "    </tr>\n",
       "    <tr>\n",
       "      <th>4</th>\n",
       "      <td>0</td>\n",
       "      <td>2023-06-05</td>\n",
       "      <td>117.7</td>\n",
       "      <td>78.4</td>\n",
       "      <td>0</td>\n",
       "      <td>57.5</td>\n",
       "      <td>0.0</td>\n",
       "      <td>25.8</td>\n",
       "      <td>0.0</td>\n",
       "      <td>0.0</td>\n",
       "    </tr>\n",
       "  </tbody>\n",
       "</table>\n",
       "</div>"
      ],
      "text/plain": [
       "   patient_id  visit_date  bp_systolic  heart_rate  adverse_event   age  sex  \\\n",
       "0           0  2023-01-17        108.6        72.4              0  57.5  0.0   \n",
       "1           0  2023-02-22        104.8        71.9              0  57.5  0.0   \n",
       "2           0  2023-03-23        106.3        76.2              0  57.5  0.0   \n",
       "3           0  2023-04-16        110.8        76.5              0  57.5  0.0   \n",
       "4           0  2023-06-05        117.7        78.4              0  57.5  0.0   \n",
       "\n",
       "    bmi  smoking  diabetes  \n",
       "0  25.8      0.0       0.0  \n",
       "1  25.8      0.0       0.0  \n",
       "2  25.8      0.0       0.0  \n",
       "3  25.8      0.0       0.0  \n",
       "4  25.8      0.0       0.0  "
      ]
     },
     "execution_count": 58,
     "metadata": {},
     "output_type": "execute_result"
    }
   ],
   "source": [
    "longitudinal = pd.read_csv('patient_longitudinal.csv', delimiter='\\t')\n",
    "longitudinal.head()"
   ]
  },
  {
   "cell_type": "code",
   "execution_count": 59,
   "metadata": {},
   "outputs": [
    {
     "name": "stdout",
     "output_type": "stream",
     "text": [
      "<class 'pandas.core.frame.DataFrame'>\n",
      "RangeIndex: 61000 entries, 0 to 60999\n",
      "Data columns (total 10 columns):\n",
      " #   Column         Non-Null Count  Dtype  \n",
      "---  ------         --------------  -----  \n",
      " 0   patient_id     61000 non-null  int64  \n",
      " 1   visit_date     61000 non-null  object \n",
      " 2   bp_systolic    61000 non-null  float64\n",
      " 3   heart_rate     61000 non-null  float64\n",
      " 4   adverse_event  61000 non-null  int64  \n",
      " 5   age            61000 non-null  float64\n",
      " 6   sex            61000 non-null  float64\n",
      " 7   bmi            61000 non-null  float64\n",
      " 8   smoking        61000 non-null  float64\n",
      " 9   diabetes       61000 non-null  float64\n",
      "dtypes: float64(7), int64(2), object(1)\n",
      "memory usage: 4.7+ MB\n"
     ]
    }
   ],
   "source": [
    "longitudinal.info()"
   ]
  },
  {
   "cell_type": "markdown",
   "metadata": {},
   "source": [
    "Converting visit_date to datetime format"
   ]
  },
  {
   "cell_type": "code",
   "execution_count": 60,
   "metadata": {},
   "outputs": [
    {
     "data": {
      "text/plain": [
       "patient_id       0\n",
       "visit_date       0\n",
       "bp_systolic      0\n",
       "heart_rate       0\n",
       "adverse_event    0\n",
       "age              0\n",
       "sex              0\n",
       "bmi              0\n",
       "smoking          0\n",
       "diabetes         0\n",
       "dtype: int64"
      ]
     },
     "execution_count": 60,
     "metadata": {},
     "output_type": "execute_result"
    }
   ],
   "source": [
    "longitudinal.isnull().sum()"
   ]
  },
  {
   "cell_type": "code",
   "execution_count": 61,
   "metadata": {},
   "outputs": [
    {
     "data": {
      "text/html": [
       "<div>\n",
       "<style scoped>\n",
       "    .dataframe tbody tr th:only-of-type {\n",
       "        vertical-align: middle;\n",
       "    }\n",
       "\n",
       "    .dataframe tbody tr th {\n",
       "        vertical-align: top;\n",
       "    }\n",
       "\n",
       "    .dataframe thead th {\n",
       "        text-align: right;\n",
       "    }\n",
       "</style>\n",
       "<table border=\"1\" class=\"dataframe\">\n",
       "  <thead>\n",
       "    <tr style=\"text-align: right;\">\n",
       "      <th></th>\n",
       "      <th>patient_id</th>\n",
       "      <th>bp_systolic</th>\n",
       "      <th>heart_rate</th>\n",
       "      <th>adverse_event</th>\n",
       "      <th>age</th>\n",
       "      <th>sex</th>\n",
       "      <th>bmi</th>\n",
       "      <th>smoking</th>\n",
       "      <th>diabetes</th>\n",
       "    </tr>\n",
       "  </thead>\n",
       "  <tbody>\n",
       "    <tr>\n",
       "      <th>count</th>\n",
       "      <td>61000.000000</td>\n",
       "      <td>61000.000000</td>\n",
       "      <td>61000.000000</td>\n",
       "      <td>61000.000000</td>\n",
       "      <td>61000.000000</td>\n",
       "      <td>61000.000000</td>\n",
       "      <td>61000.000000</td>\n",
       "      <td>61000.000000</td>\n",
       "      <td>61000.000000</td>\n",
       "    </tr>\n",
       "    <tr>\n",
       "      <th>mean</th>\n",
       "      <td>499.500000</td>\n",
       "      <td>134.454487</td>\n",
       "      <td>77.983184</td>\n",
       "      <td>0.094492</td>\n",
       "      <td>50.319300</td>\n",
       "      <td>0.515000</td>\n",
       "      <td>27.095600</td>\n",
       "      <td>0.274000</td>\n",
       "      <td>0.282000</td>\n",
       "    </tr>\n",
       "    <tr>\n",
       "      <th>std</th>\n",
       "      <td>288.677356</td>\n",
       "      <td>18.642552</td>\n",
       "      <td>18.107739</td>\n",
       "      <td>0.292514</td>\n",
       "      <td>14.463437</td>\n",
       "      <td>0.499779</td>\n",
       "      <td>4.880253</td>\n",
       "      <td>0.446013</td>\n",
       "      <td>0.449977</td>\n",
       "    </tr>\n",
       "    <tr>\n",
       "      <th>min</th>\n",
       "      <td>0.000000</td>\n",
       "      <td>51.600000</td>\n",
       "      <td>1.800000</td>\n",
       "      <td>0.000000</td>\n",
       "      <td>18.000000</td>\n",
       "      <td>0.000000</td>\n",
       "      <td>15.000000</td>\n",
       "      <td>0.000000</td>\n",
       "      <td>0.000000</td>\n",
       "    </tr>\n",
       "    <tr>\n",
       "      <th>25%</th>\n",
       "      <td>249.750000</td>\n",
       "      <td>122.100000</td>\n",
       "      <td>66.000000</td>\n",
       "      <td>0.000000</td>\n",
       "      <td>40.275000</td>\n",
       "      <td>0.000000</td>\n",
       "      <td>23.800000</td>\n",
       "      <td>0.000000</td>\n",
       "      <td>0.000000</td>\n",
       "    </tr>\n",
       "    <tr>\n",
       "      <th>50%</th>\n",
       "      <td>499.500000</td>\n",
       "      <td>134.300000</td>\n",
       "      <td>77.900000</td>\n",
       "      <td>0.000000</td>\n",
       "      <td>50.400000</td>\n",
       "      <td>1.000000</td>\n",
       "      <td>27.000000</td>\n",
       "      <td>0.000000</td>\n",
       "      <td>0.000000</td>\n",
       "    </tr>\n",
       "    <tr>\n",
       "      <th>75%</th>\n",
       "      <td>749.250000</td>\n",
       "      <td>146.800000</td>\n",
       "      <td>89.600000</td>\n",
       "      <td>0.000000</td>\n",
       "      <td>59.700000</td>\n",
       "      <td>1.000000</td>\n",
       "      <td>30.300000</td>\n",
       "      <td>1.000000</td>\n",
       "      <td>1.000000</td>\n",
       "    </tr>\n",
       "    <tr>\n",
       "      <th>max</th>\n",
       "      <td>999.000000</td>\n",
       "      <td>209.700000</td>\n",
       "      <td>152.800000</td>\n",
       "      <td>1.000000</td>\n",
       "      <td>90.000000</td>\n",
       "      <td>1.000000</td>\n",
       "      <td>43.000000</td>\n",
       "      <td>1.000000</td>\n",
       "      <td>1.000000</td>\n",
       "    </tr>\n",
       "  </tbody>\n",
       "</table>\n",
       "</div>"
      ],
      "text/plain": [
       "         patient_id   bp_systolic    heart_rate  adverse_event           age  \\\n",
       "count  61000.000000  61000.000000  61000.000000   61000.000000  61000.000000   \n",
       "mean     499.500000    134.454487     77.983184       0.094492     50.319300   \n",
       "std      288.677356     18.642552     18.107739       0.292514     14.463437   \n",
       "min        0.000000     51.600000      1.800000       0.000000     18.000000   \n",
       "25%      249.750000    122.100000     66.000000       0.000000     40.275000   \n",
       "50%      499.500000    134.300000     77.900000       0.000000     50.400000   \n",
       "75%      749.250000    146.800000     89.600000       0.000000     59.700000   \n",
       "max      999.000000    209.700000    152.800000       1.000000     90.000000   \n",
       "\n",
       "                sex           bmi       smoking      diabetes  \n",
       "count  61000.000000  61000.000000  61000.000000  61000.000000  \n",
       "mean       0.515000     27.095600      0.274000      0.282000  \n",
       "std        0.499779      4.880253      0.446013      0.449977  \n",
       "min        0.000000     15.000000      0.000000      0.000000  \n",
       "25%        0.000000     23.800000      0.000000      0.000000  \n",
       "50%        1.000000     27.000000      0.000000      0.000000  \n",
       "75%        1.000000     30.300000      1.000000      1.000000  \n",
       "max        1.000000     43.000000      1.000000      1.000000  "
      ]
     },
     "execution_count": 61,
     "metadata": {},
     "output_type": "execute_result"
    }
   ],
   "source": [
    "longitudinal.describe()"
   ]
  },
  {
   "cell_type": "markdown",
   "metadata": {},
   "source": [
    "The patient_id column is identical to the one from earlier. It is extremely unusual to have a mean of 499.5 for 61000 values unless we have repeating patient_id which does make sense."
   ]
  },
  {
   "cell_type": "code",
   "execution_count": 62,
   "metadata": {},
   "outputs": [
    {
     "name": "stdout",
     "output_type": "stream",
     "text": [
      "Longitudinal visits:  61.0\n",
      "Baseline visits:  1.0\n"
     ]
    }
   ],
   "source": [
    "visits_per_patient_long = longitudinal['patient_id'].value_counts().mean()\n",
    "visits_per_patient_base = baseline['patient_id'].value_counts().mean()\n",
    "print(\"Longitudinal visits: \", visits_per_patient_long)\n",
    "print(\"Baseline visits: \", visits_per_patient_base)"
   ]
  },
  {
   "cell_type": "markdown",
   "metadata": {},
   "source": [
    "This output makes sense since the baseline only has 1 visit per patient and the longitudinal data has 61 visits per patient worth of data to analyze from."
   ]
  },
  {
   "cell_type": "code",
   "execution_count": 63,
   "metadata": {},
   "outputs": [
    {
     "name": "stdout",
     "output_type": "stream",
     "text": [
      "Value counts for adverse_event:\n",
      " 0    55236\n",
      "1     5764\n",
      "Name: adverse_event, dtype: int64\n"
     ]
    }
   ],
   "source": [
    "print(\"Value counts for adverse_event:\\n\", longitudinal['adverse_event'].value_counts())"
   ]
  },
  {
   "cell_type": "markdown",
   "metadata": {},
   "source": [
    "## Treatment Dataset"
   ]
  },
  {
   "cell_type": "code",
   "execution_count": 45,
   "metadata": {},
   "outputs": [
    {
     "data": {
      "text/html": [
       "<div>\n",
       "<style scoped>\n",
       "    .dataframe tbody tr th:only-of-type {\n",
       "        vertical-align: middle;\n",
       "    }\n",
       "\n",
       "    .dataframe tbody tr th {\n",
       "        vertical-align: top;\n",
       "    }\n",
       "\n",
       "    .dataframe thead th {\n",
       "        text-align: right;\n",
       "    }\n",
       "</style>\n",
       "<table border=\"1\" class=\"dataframe\">\n",
       "  <thead>\n",
       "    <tr style=\"text-align: right;\">\n",
       "      <th></th>\n",
       "      <th>patient_id</th>\n",
       "      <th>age</th>\n",
       "      <th>sex</th>\n",
       "      <th>bmi</th>\n",
       "      <th>smoking</th>\n",
       "      <th>diabetes</th>\n",
       "      <th>bp_systolic</th>\n",
       "      <th>cholesterol</th>\n",
       "      <th>heart_rate</th>\n",
       "      <th>treatment</th>\n",
       "      <th>adherence</th>\n",
       "      <th>outcome</th>\n",
       "    </tr>\n",
       "  </thead>\n",
       "  <tbody>\n",
       "    <tr>\n",
       "      <th>0</th>\n",
       "      <td>0</td>\n",
       "      <td>57.5</td>\n",
       "      <td>0</td>\n",
       "      <td>25.8</td>\n",
       "      <td>0</td>\n",
       "      <td>0</td>\n",
       "      <td>108.7</td>\n",
       "      <td>257.9</td>\n",
       "      <td>79.3</td>\n",
       "      <td>0</td>\n",
       "      <td>0.81</td>\n",
       "      <td>0</td>\n",
       "    </tr>\n",
       "    <tr>\n",
       "      <th>1</th>\n",
       "      <td>1</td>\n",
       "      <td>47.9</td>\n",
       "      <td>0</td>\n",
       "      <td>23.2</td>\n",
       "      <td>0</td>\n",
       "      <td>0</td>\n",
       "      <td>149.4</td>\n",
       "      <td>155.9</td>\n",
       "      <td>75.4</td>\n",
       "      <td>1</td>\n",
       "      <td>0.91</td>\n",
       "      <td>1</td>\n",
       "    </tr>\n",
       "    <tr>\n",
       "      <th>2</th>\n",
       "      <td>2</td>\n",
       "      <td>59.7</td>\n",
       "      <td>1</td>\n",
       "      <td>29.0</td>\n",
       "      <td>0</td>\n",
       "      <td>0</td>\n",
       "      <td>136.7</td>\n",
       "      <td>220.7</td>\n",
       "      <td>85.0</td>\n",
       "      <td>1</td>\n",
       "      <td>0.73</td>\n",
       "      <td>1</td>\n",
       "    </tr>\n",
       "    <tr>\n",
       "      <th>3</th>\n",
       "      <td>3</td>\n",
       "      <td>72.8</td>\n",
       "      <td>1</td>\n",
       "      <td>34.6</td>\n",
       "      <td>0</td>\n",
       "      <td>1</td>\n",
       "      <td>141.0</td>\n",
       "      <td>205.7</td>\n",
       "      <td>78.0</td>\n",
       "      <td>1</td>\n",
       "      <td>0.91</td>\n",
       "      <td>1</td>\n",
       "    </tr>\n",
       "    <tr>\n",
       "      <th>4</th>\n",
       "      <td>4</td>\n",
       "      <td>46.5</td>\n",
       "      <td>0</td>\n",
       "      <td>17.5</td>\n",
       "      <td>0</td>\n",
       "      <td>0</td>\n",
       "      <td>129.0</td>\n",
       "      <td>186.8</td>\n",
       "      <td>95.2</td>\n",
       "      <td>0</td>\n",
       "      <td>0.77</td>\n",
       "      <td>0</td>\n",
       "    </tr>\n",
       "  </tbody>\n",
       "</table>\n",
       "</div>"
      ],
      "text/plain": [
       "   patient_id   age  sex   bmi  smoking  diabetes  bp_systolic  cholesterol  \\\n",
       "0           0  57.5    0  25.8        0         0        108.7        257.9   \n",
       "1           1  47.9    0  23.2        0         0        149.4        155.9   \n",
       "2           2  59.7    1  29.0        0         0        136.7        220.7   \n",
       "3           3  72.8    1  34.6        0         1        141.0        205.7   \n",
       "4           4  46.5    0  17.5        0         0        129.0        186.8   \n",
       "\n",
       "   heart_rate  treatment  adherence  outcome  \n",
       "0        79.3          0       0.81        0  \n",
       "1        75.4          1       0.91        1  \n",
       "2        85.0          1       0.73        1  \n",
       "3        78.0          1       0.91        1  \n",
       "4        95.2          0       0.77        0  "
      ]
     },
     "execution_count": 45,
     "metadata": {},
     "output_type": "execute_result"
    }
   ],
   "source": [
    "treatment = pd.read_csv('patient_treatment.csv', delimiter='\\t')\n",
    "treatment.head()"
   ]
  },
  {
   "cell_type": "code",
   "execution_count": 46,
   "metadata": {},
   "outputs": [
    {
     "name": "stdout",
     "output_type": "stream",
     "text": [
      "<class 'pandas.core.frame.DataFrame'>\n",
      "RangeIndex: 1000 entries, 0 to 999\n",
      "Data columns (total 12 columns):\n",
      " #   Column       Non-Null Count  Dtype  \n",
      "---  ------       --------------  -----  \n",
      " 0   patient_id   1000 non-null   int64  \n",
      " 1   age          1000 non-null   float64\n",
      " 2   sex          1000 non-null   int64  \n",
      " 3   bmi          1000 non-null   float64\n",
      " 4   smoking      1000 non-null   int64  \n",
      " 5   diabetes     1000 non-null   int64  \n",
      " 6   bp_systolic  1000 non-null   float64\n",
      " 7   cholesterol  1000 non-null   float64\n",
      " 8   heart_rate   1000 non-null   float64\n",
      " 9   treatment    1000 non-null   int64  \n",
      " 10  adherence    1000 non-null   float64\n",
      " 11  outcome      1000 non-null   int64  \n",
      "dtypes: float64(6), int64(6)\n",
      "memory usage: 93.9 KB\n"
     ]
    }
   ],
   "source": [
    "treatment.info()"
   ]
  },
  {
   "cell_type": "code",
   "execution_count": 47,
   "metadata": {},
   "outputs": [
    {
     "data": {
      "text/html": [
       "<div>\n",
       "<style scoped>\n",
       "    .dataframe tbody tr th:only-of-type {\n",
       "        vertical-align: middle;\n",
       "    }\n",
       "\n",
       "    .dataframe tbody tr th {\n",
       "        vertical-align: top;\n",
       "    }\n",
       "\n",
       "    .dataframe thead th {\n",
       "        text-align: right;\n",
       "    }\n",
       "</style>\n",
       "<table border=\"1\" class=\"dataframe\">\n",
       "  <thead>\n",
       "    <tr style=\"text-align: right;\">\n",
       "      <th></th>\n",
       "      <th>patient_id</th>\n",
       "      <th>age</th>\n",
       "      <th>sex</th>\n",
       "      <th>bmi</th>\n",
       "      <th>smoking</th>\n",
       "      <th>diabetes</th>\n",
       "      <th>bp_systolic</th>\n",
       "      <th>cholesterol</th>\n",
       "      <th>heart_rate</th>\n",
       "      <th>treatment</th>\n",
       "      <th>adherence</th>\n",
       "      <th>outcome</th>\n",
       "    </tr>\n",
       "  </thead>\n",
       "  <tbody>\n",
       "    <tr>\n",
       "      <th>count</th>\n",
       "      <td>1000.000000</td>\n",
       "      <td>1000.000000</td>\n",
       "      <td>1000.000000</td>\n",
       "      <td>1000.000000</td>\n",
       "      <td>1000.000000</td>\n",
       "      <td>1000.000000</td>\n",
       "      <td>1000.000000</td>\n",
       "      <td>1000.000000</td>\n",
       "      <td>1000.0000</td>\n",
       "      <td>1000.00000</td>\n",
       "      <td>1000.000000</td>\n",
       "      <td>1000.000000</td>\n",
       "    </tr>\n",
       "    <tr>\n",
       "      <th>mean</th>\n",
       "      <td>499.500000</td>\n",
       "      <td>50.319300</td>\n",
       "      <td>0.515000</td>\n",
       "      <td>27.095600</td>\n",
       "      <td>0.274000</td>\n",
       "      <td>0.282000</td>\n",
       "      <td>134.552400</td>\n",
       "      <td>205.390400</td>\n",
       "      <td>77.4556</td>\n",
       "      <td>0.58400</td>\n",
       "      <td>0.721320</td>\n",
       "      <td>0.384000</td>\n",
       "    </tr>\n",
       "    <tr>\n",
       "      <th>std</th>\n",
       "      <td>288.819436</td>\n",
       "      <td>14.470555</td>\n",
       "      <td>0.500025</td>\n",
       "      <td>4.882655</td>\n",
       "      <td>0.446232</td>\n",
       "      <td>0.450198</td>\n",
       "      <td>12.408951</td>\n",
       "      <td>22.125587</td>\n",
       "      <td>11.5321</td>\n",
       "      <td>0.49314</td>\n",
       "      <td>0.138376</td>\n",
       "      <td>0.486601</td>\n",
       "    </tr>\n",
       "    <tr>\n",
       "      <th>min</th>\n",
       "      <td>0.000000</td>\n",
       "      <td>18.000000</td>\n",
       "      <td>0.000000</td>\n",
       "      <td>15.000000</td>\n",
       "      <td>0.000000</td>\n",
       "      <td>0.000000</td>\n",
       "      <td>97.500000</td>\n",
       "      <td>140.300000</td>\n",
       "      <td>44.5000</td>\n",
       "      <td>0.00000</td>\n",
       "      <td>0.260000</td>\n",
       "      <td>0.000000</td>\n",
       "    </tr>\n",
       "    <tr>\n",
       "      <th>25%</th>\n",
       "      <td>249.750000</td>\n",
       "      <td>40.275000</td>\n",
       "      <td>0.000000</td>\n",
       "      <td>23.800000</td>\n",
       "      <td>0.000000</td>\n",
       "      <td>0.000000</td>\n",
       "      <td>125.875000</td>\n",
       "      <td>190.875000</td>\n",
       "      <td>69.4000</td>\n",
       "      <td>0.00000</td>\n",
       "      <td>0.630000</td>\n",
       "      <td>0.000000</td>\n",
       "    </tr>\n",
       "    <tr>\n",
       "      <th>50%</th>\n",
       "      <td>499.500000</td>\n",
       "      <td>50.400000</td>\n",
       "      <td>1.000000</td>\n",
       "      <td>27.000000</td>\n",
       "      <td>0.000000</td>\n",
       "      <td>0.000000</td>\n",
       "      <td>134.400000</td>\n",
       "      <td>205.350000</td>\n",
       "      <td>77.7000</td>\n",
       "      <td>1.00000</td>\n",
       "      <td>0.730000</td>\n",
       "      <td>0.000000</td>\n",
       "    </tr>\n",
       "    <tr>\n",
       "      <th>75%</th>\n",
       "      <td>749.250000</td>\n",
       "      <td>59.700000</td>\n",
       "      <td>1.000000</td>\n",
       "      <td>30.300000</td>\n",
       "      <td>1.000000</td>\n",
       "      <td>1.000000</td>\n",
       "      <td>142.425000</td>\n",
       "      <td>219.500000</td>\n",
       "      <td>85.5000</td>\n",
       "      <td>1.00000</td>\n",
       "      <td>0.820000</td>\n",
       "      <td>1.000000</td>\n",
       "    </tr>\n",
       "    <tr>\n",
       "      <th>max</th>\n",
       "      <td>999.000000</td>\n",
       "      <td>90.000000</td>\n",
       "      <td>1.000000</td>\n",
       "      <td>43.000000</td>\n",
       "      <td>1.000000</td>\n",
       "      <td>1.000000</td>\n",
       "      <td>177.300000</td>\n",
       "      <td>293.100000</td>\n",
       "      <td>112.6000</td>\n",
       "      <td>1.00000</td>\n",
       "      <td>1.000000</td>\n",
       "      <td>1.000000</td>\n",
       "    </tr>\n",
       "  </tbody>\n",
       "</table>\n",
       "</div>"
      ],
      "text/plain": [
       "        patient_id          age          sex          bmi      smoking  \\\n",
       "count  1000.000000  1000.000000  1000.000000  1000.000000  1000.000000   \n",
       "mean    499.500000    50.319300     0.515000    27.095600     0.274000   \n",
       "std     288.819436    14.470555     0.500025     4.882655     0.446232   \n",
       "min       0.000000    18.000000     0.000000    15.000000     0.000000   \n",
       "25%     249.750000    40.275000     0.000000    23.800000     0.000000   \n",
       "50%     499.500000    50.400000     1.000000    27.000000     0.000000   \n",
       "75%     749.250000    59.700000     1.000000    30.300000     1.000000   \n",
       "max     999.000000    90.000000     1.000000    43.000000     1.000000   \n",
       "\n",
       "          diabetes  bp_systolic  cholesterol  heart_rate   treatment  \\\n",
       "count  1000.000000  1000.000000  1000.000000   1000.0000  1000.00000   \n",
       "mean      0.282000   134.552400   205.390400     77.4556     0.58400   \n",
       "std       0.450198    12.408951    22.125587     11.5321     0.49314   \n",
       "min       0.000000    97.500000   140.300000     44.5000     0.00000   \n",
       "25%       0.000000   125.875000   190.875000     69.4000     0.00000   \n",
       "50%       0.000000   134.400000   205.350000     77.7000     1.00000   \n",
       "75%       1.000000   142.425000   219.500000     85.5000     1.00000   \n",
       "max       1.000000   177.300000   293.100000    112.6000     1.00000   \n",
       "\n",
       "         adherence      outcome  \n",
       "count  1000.000000  1000.000000  \n",
       "mean      0.721320     0.384000  \n",
       "std       0.138376     0.486601  \n",
       "min       0.260000     0.000000  \n",
       "25%       0.630000     0.000000  \n",
       "50%       0.730000     0.000000  \n",
       "75%       0.820000     1.000000  \n",
       "max       1.000000     1.000000  "
      ]
     },
     "execution_count": 47,
     "metadata": {},
     "output_type": "execute_result"
    }
   ],
   "source": [
    "treatment.describe()"
   ]
  },
  {
   "cell_type": "code",
   "execution_count": 48,
   "metadata": {},
   "outputs": [
    {
     "name": "stdout",
     "output_type": "stream",
     "text": [
      "1000\n"
     ]
    }
   ],
   "source": [
    "print(treatment['patient_id'].nunique())"
   ]
  },
  {
   "cell_type": "code",
   "execution_count": 49,
   "metadata": {},
   "outputs": [
    {
     "data": {
      "text/plain": [
       "patient_id     0\n",
       "age            0\n",
       "sex            0\n",
       "bmi            0\n",
       "smoking        0\n",
       "diabetes       0\n",
       "bp_systolic    0\n",
       "cholesterol    0\n",
       "heart_rate     0\n",
       "treatment      0\n",
       "adherence      0\n",
       "outcome        0\n",
       "dtype: int64"
      ]
     },
     "execution_count": 49,
     "metadata": {},
     "output_type": "execute_result"
    }
   ],
   "source": [
    "treatment.isnull().sum()"
   ]
  },
  {
   "cell_type": "markdown",
   "metadata": {},
   "source": [
    "Lets create some graphs to see the distribution of Treatment Assignment and the Distribution of Treatment Outcomes"
   ]
  },
  {
   "cell_type": "code",
   "execution_count": 52,
   "metadata": {},
   "outputs": [
    {
     "data": {
      "image/png": "[encoded data removed]",
      "text/plain": [
       "<Figure size 432x288 with 1 Axes>"
      ]
     },
     "metadata": {
      "needs_background": "light"
     },
     "output_type": "display_data"
    }
   ],
   "source": [
    "treatment['treatment'].value_counts().plot(kind='bar', title='Distribution of Treatment Assignment')\n",
    "plt.ylabel('Number of Patients')\n",
    "plt.xticks(ticks=[0, 1], labels=['No Treatment', 'Treatment'], rotation=0)\n",
    "plt.show()"
   ]
  },
  {
   "cell_type": "code",
   "execution_count": 53,
   "metadata": {},
   "outputs": [
    {
     "data": {
      "image/png": "[encoded data removed]",
      "text/plain": [
       "<Figure size 432x288 with 1 Axes>"
      ]
     },
     "metadata": {
      "needs_background": "light"
     },
     "output_type": "display_data"
    }
   ],
   "source": [
    "treatment['outcome'].value_counts().plot(kind='bar', title='Distribution of Treatment Outcomes')\n",
    "plt.ylabel('Number of Patients')\n",
    "plt.xticks(ticks=[0, 1], labels=['Did Not Reach Goal', 'Reached Goal'], rotation=0)\n",
    "plt.show()"
   ]
  },
  {
   "cell_type": "markdown",
   "metadata": {},
   "source": [
    "# Begin Assignment\n",
    "\n",
    "Now that we have loaded in our datasets and have a rough idea of their contents through EDA, we can begin working on the assignment."
   ]
  },
  {
   "cell_type": "markdown",
   "metadata": {},
   "source": [
    "## Part 1: Time Series Tasks"
   ]
  },
  {
   "cell_type": "markdown",
   "metadata": {},
   "source": [
    "### Part 1.1: Convert the longitudinal blood pressure measurements into a proper time series:\n",
    "\n",
    "- Create a pandas Series with DatetimeIndex using visit_date\n",
    "- Handle any missing or duplicate measurements appropriately\n",
    "\n",
    "\n",
    "Tips:\n",
    "- Use pd.to_datetime() with format='%Y-%m-%d' for reliable parsing\n",
    "- Handle duplicates with duplicated() and appropriate aggregation\n",
    "- Consider timezone handling with tz_localize() if needed\n",
    "- Use interpolate() or fillna() for missing values\n"
   ]
  },
  {
   "cell_type": "markdown",
   "metadata": {},
   "source": [
    "Converting to datetime format and grouping the dataset"
   ]
  },
  {
   "cell_type": "code",
   "execution_count": 64,
   "metadata": {},
   "outputs": [],
   "source": [
    "#Converting visit_date to proper datetime format\n",
    "longitudinal['visit_date'] = pd.to_datetime(longitudinal['visit_date'], errors='coerce')\n",
    "\n",
    "#sorting to group the values by patient_id and visit_date\n",
    "longitudinal = longitudinal.sort_values(by=['patient_id', 'visit_date'])"
   ]
  },
  {
   "cell_type": "markdown",
   "metadata": {},
   "source": [
    "Handling duplicated values and missing values with aggregation"
   ]
  },
  {
   "cell_type": "code",
   "execution_count": 65,
   "metadata": {},
   "outputs": [],
   "source": [
    "longitudinal_grouped = longitudinal.groupby(['patient_id', 'visit_date']).agg({\n",
    "    'bp_systolic': 'mean',\n",
    "    'heart_rate': 'mean',\n",
    "    'adverse_event': 'max'}).reset_index()"
   ]
  },
  {
   "cell_type": "markdown",
   "metadata": {},
   "source": [
    "Setting the index of the grouped dataframe as the visit_date"
   ]
  },
  {
   "cell_type": "code",
   "execution_count": 66,
   "metadata": {},
   "outputs": [],
   "source": [
    "longitudinal_grouped.set_index('visit_date', inplace=True)"
   ]
  },
  {
   "cell_type": "markdown",
   "metadata": {},
   "source": [
    "Filling in missing values with forward fill"
   ]
  },
  {
   "cell_type": "code",
   "execution_count": 67,
   "metadata": {},
   "outputs": [],
   "source": [
    "longitudinal_grouped['bp_systolic'] = longitudinal_grouped['bp_systolic'].fillna(method='ffill')\n",
    "longitudinal_grouped['heart_rate'] = longitudinal_grouped['heart_rate'].fillna(method='ffill')"
   ]
  },
  {
   "cell_type": "markdown",
   "metadata": {},
   "source": [
    "Creating the time series for blood pressure"
   ]
  },
  {
   "cell_type": "code",
   "execution_count": 68,
   "metadata": {},
   "outputs": [],
   "source": [
    "time_series_bp = {}\n",
    "\n",
    "for patient_id in longitudinal_grouped['patient_id'].unique():\n",
    "    patient_data = longitudinal_grouped[longitudinal_grouped['patient_id'] == patient_id]\n",
    "\n",
    "    # Create a pandas Series for blood pressure\n",
    "    time_series_bp[patient_id] = pd.Series(\n",
    "        patient_data['bp_systolic'].values,\n",
    "        index=patient_data.index\n",
    "    )"
   ]
  },
  {
   "cell_type": "markdown",
   "metadata": {},
   "source": [
    "Checking what we have in time_series_bp for a single patient_id"
   ]
  },
  {
   "cell_type": "code",
   "execution_count": 73,
   "metadata": {},
   "outputs": [
    {
     "name": "stdout",
     "output_type": "stream",
     "text": [
      "visit_date\n",
      "2023-01-17    108.6\n",
      "2023-02-22    104.8\n",
      "2023-03-23    106.3\n",
      "2023-04-16    110.8\n",
      "2023-06-05    117.7\n",
      "2023-06-16    118.0\n",
      "2023-06-21    119.9\n",
      "2023-07-03    115.5\n",
      "2023-08-23    119.2\n",
      "2023-10-13    121.2\n",
      "2023-10-20    120.0\n",
      "2023-12-13    123.1\n",
      "2024-01-17    122.4\n",
      "2024-03-01    121.3\n",
      "2024-03-14    122.4\n",
      "2024-04-04    119.8\n",
      "2024-04-17    122.5\n",
      "2024-05-19    119.7\n",
      "2024-05-25    114.8\n",
      "2024-07-03    117.1\n",
      "2024-10-05    115.2\n",
      "2024-10-21    116.7\n",
      "2024-11-14    111.8\n",
      "2024-12-07    110.2\n",
      "2025-01-19    110.3\n",
      "2025-02-20    107.3\n",
      "2025-02-25    104.4\n",
      "2025-03-25    109.7\n",
      "2025-04-03    107.5\n",
      "2025-06-17    105.8\n",
      "2025-06-23    106.3\n",
      "2025-07-31    106.7\n",
      "2025-08-26    104.7\n",
      "2025-11-12    108.7\n",
      "2025-12-04    104.8\n",
      "2025-12-08    107.9\n",
      "2025-12-22    108.0\n",
      "2026-01-26    106.5\n",
      "2026-02-14    107.8\n",
      "2026-04-28    111.8\n",
      "2026-05-24    112.1\n",
      "2026-05-30    107.0\n",
      "2026-06-30    110.9\n",
      "2026-07-22    110.3\n",
      "2026-08-15    111.0\n",
      "2026-09-19    108.9\n",
      "2026-09-30    109.6\n",
      "2026-10-26    106.5\n",
      "2027-01-07    108.0\n",
      "2027-02-17    111.0\n",
      "2027-02-19    109.5\n",
      "2027-04-05    112.7\n",
      "2027-05-09    113.3\n",
      "2027-06-09    109.2\n",
      "2027-07-02    110.7\n",
      "2027-08-28    106.6\n",
      "2027-09-17    109.2\n",
      "2027-10-14    105.3\n",
      "2027-12-02    109.4\n",
      "2027-12-11    104.0\n",
      "dtype: float64\n"
     ]
    }
   ],
   "source": [
    "a=0\n",
    "for patient_id in longitudinal_grouped['patient_id'].unique():\n",
    "    print(time_series_bp[patient_id])\n",
    "    a+=1\n",
    "    if a==1:\n",
    "        break"
   ]
  },
  {
   "cell_type": "markdown",
   "metadata": {},
   "source": [
    "### Part 1.2 Analyze blood pressure trends:\n",
    "\n",
    "- Resample the data to monthly frequency using mean aggregation\n",
    "- Calculate 3-month moving averages to smooth out short-term fluctuations\n",
    "- Visualize both the original and smoothed trends\n",
    "\n",
    "Tips:\n",
    "- Use resample('ME').mean() for month-end frequency\n",
    "- Add min_periods to rolling() to handle edge cases\n",
    "- Consider interpolate() method for gaps\n",
    "- Use ewm() for exponential weighted alternatives"
   ]
  },
  {
   "cell_type": "markdown",
   "metadata": {},
   "source": [
    "According to the instructions, if we want to visualize both the original and smoothed trends for the ENTIRE dataset, we would have to create 1000 plots which isn't really feasible. So, for this example, we will be considering patient_id = 1."
   ]
  },
  {
   "cell_type": "markdown",
   "metadata": {},
   "source": [
    "Here, we set our working variables and resample the data to monthly frequency and calculate the mean"
   ]
  },
  {
   "cell_type": "code",
   "execution_count": 76,
   "metadata": {},
   "outputs": [],
   "source": [
    "patient_id = 1\n",
    "bp_series = time_series_bp[patient_id]\n",
    "monthly_bp = bp_series.resample('M').mean()"
   ]
  },
  {
   "cell_type": "markdown",
   "metadata": {},
   "source": [
    "Calculate 3-month moving average: "
   ]
  },
  {
   "cell_type": "code",
   "execution_count": 77,
   "metadata": {},
   "outputs": [],
   "source": [
    "monthly_bp_smoothed = monthly_bp.rolling(window=3, min_periods=1).mean()"
   ]
  },
  {
   "cell_type": "markdown",
   "metadata": {},
   "source": [
    "Calculating exponential weighted moving average:"
   ]
  },
  {
   "cell_type": "code",
   "execution_count": 78,
   "metadata": {},
   "outputs": [],
   "source": [
    "monthly_bp_ewm = monthly_bp.ewm(span=3).mean()"
   ]
  },
  {
   "cell_type": "code",
   "execution_count": 83,
   "metadata": {},
   "outputs": [
    {
     "data": {
      "image/png": "[encoded data removed]",
      "text/plain": [
       "<Figure size 1008x504 with 1 Axes>"
      ]
     },
     "metadata": {
      "needs_background": "light"
     },
     "output_type": "display_data"
    }
   ],
   "source": [
    "plt.figure(figsize=(14, 7))\n",
    "plt.plot(monthly_bp.index, monthly_bp, label='Monthly Mean BP', color='blue', marker='o')\n",
    "plt.plot(monthly_bp_smoothed.index, monthly_bp_smoothed, label='3-Month Moving Average', color='orange', linestyle='--')\n",
    "plt.plot(monthly_bp_ewm.index, monthly_bp_ewm, label='Exponential Weighted Moving Average', color='green', linestyle=':')\n",
    "\n",
    "\n",
    "#Adding a Title, X-axis label, Y-axis label, legend, and grid\n",
    "plt.title(f'Blood Pressure Trends for Patient {patient_id}')\n",
    "plt.xlabel('Date')\n",
    "plt.ylabel('Systolic Blood Pressure')\n",
    "plt.legend()\n",
    "plt.grid()\n",
    "plt.tight_layout()\n",
    "plt.show()"
   ]
  },
  {
   "cell_type": "markdown",
   "metadata": {},
   "source": [
    "## Part 2: Statistical Modeling Tasks"
   ]
  },
  {
   "cell_type": "markdown",
   "metadata": {},
   "source": [
    "### Part 2.1: Analyze factors affecting baseline blood pressure:\n",
    "\n",
    "- Use statsmodels OLS to predict bp_systolic\n",
    "- Include age, bmi, smoking, and diabetes as predictors\n",
    "- Interpret the coefficients and their p-values\n",
    "- Assess model fit using R-squared and diagnostic plots\n",
    "\n",
    "Tips:\n",
    "- Create feature matrix X with predictors and add constant term using sm.add_constant()\n",
    "- Use sm.OLS(y, X).fit() to fit the model\n",
    "- Use summary() to examine p-values and confidence intervals\n",
    "- Plot residuals vs fitted values and Q-Q plot\n",
    "- Consider robust standard errors with HC3 covariance type"
   ]
  },
  {
   "cell_type": "markdown",
   "metadata": {},
   "source": [
    "Preparing the data, with the constant term for the intercept."
   ]
  },
  {
   "cell_type": "code",
   "execution_count": 86,
   "metadata": {},
   "outputs": [],
   "source": [
    "y = baseline['bp_systolic']\n",
    "X = baseline[['age', 'bmi', 'smoking', 'diabetes']]\n",
    "\n",
    "X = sm.add_constant(X)"
   ]
  },
  {
   "cell_type": "markdown",
   "metadata": {},
   "source": [
    "Fitting an Ordinary Least Squares (OLS) model"
   ]
  },
  {
   "cell_type": "code",
   "execution_count": 87,
   "metadata": {},
   "outputs": [],
   "source": [
    "model = sm.OLS(y, X).fit()"
   ]
  },
  {
   "cell_type": "code",
   "execution_count": 89,
   "metadata": {},
   "outputs": [
    {
     "name": "stdout",
     "output_type": "stream",
     "text": [
      "                            OLS Regression Results                            \n",
      "==============================================================================\n",
      "Dep. Variable:            bp_systolic   R-squared:                       0.376\n",
      "Model:                            OLS   Adj. R-squared:                  0.374\n",
      "Method:                 Least Squares   F-statistic:                     150.2\n",
      "Date:                Wed, 06 Nov 2024   Prob (F-statistic):          1.65e-100\n",
      "Time:                        00:22:59   Log-Likelihood:                -3700.7\n",
      "No. Observations:                1000   AIC:                             7411.\n",
      "Df Residuals:                     995   BIC:                             7436.\n",
      "Df Model:                           4                                         \n",
      "Covariance Type:            nonrobust                                         \n",
      "==============================================================================\n",
      "                 coef    std err          t      P>|t|      [0.025      0.975]\n",
      "------------------------------------------------------------------------------\n",
      "const        108.4929      2.000     54.252      0.000     104.569     112.417\n",
      "age            0.2840      0.023     12.551      0.000       0.240       0.328\n",
      "bmi            0.2786      0.066      4.198      0.000       0.148       0.409\n",
      "smoking        5.2412      0.698      7.512      0.000       3.872       6.610\n",
      "diabetes       9.8732      0.742     13.307      0.000       8.417      11.329\n",
      "==============================================================================\n",
      "Omnibus:                        1.315   Durbin-Watson:                   2.012\n",
      "Prob(Omnibus):                  0.518   Jarque-Bera (JB):                1.210\n",
      "Skew:                          -0.027   Prob(JB):                        0.546\n",
      "Kurtosis:                       3.162   Cond. No.                         380.\n",
      "==============================================================================\n",
      "\n",
      "Notes:\n",
      "[1] Standard Errors assume that the covariance matrix of the errors is correctly specified.\n"
     ]
    }
   ],
   "source": [
    "print(model.summary())"
   ]
  },
  {
   "cell_type": "markdown",
   "metadata": {},
   "source": [
    "The analysis of the coefficients and their p-values are:\n",
    "\n",
    "1.  Intercept:\n",
    "    - Coefficient = 108.49\n",
    "    - This represents the expected systolic blood pressure when all predictor variables are equal to zero. \n",
    "2. Age: \n",
    "    - Coefficient = 0.284\n",
    "    - For each additional year in age, systolic blood pressure is expected to increase by 0.284 mmHg. Since the P value = 0, this effect is very statistically significant in that an increase in age correlates heavily with an increase in Systolic Blood Pressure.\n",
    "3. BMI:\n",
    "    - Coefficient = 0.2786\n",
    "    - Each unit increase in BMI is associated with a rise of 0.279 mmHg in systolic blood pressure. The p value is 0 so, this effect is also very statistically significant in that an increase in BMI correlates heavily with an increase in Systolic Blood Pressure.\n",
    "4. Smoking: \n",
    "    - Coefficient = 5.2412\n",
    "    - Smokers have systolic blood pressure levels that are, on average, 5.2412 mmHg higher than non-smokers. The p value of 0 indicates a strong correlation between smoking and increased blood pressure\n",
    "5. Diabetes:\n",
    "    - Coefficient = 9.8732\n",
    "    - The presence of diabetes in an individual generally accounts for an increase of 9.873 mmHg in systolic blood pressure compared to non-diabetic individuals. The p value is 0 which indicates a very statistically significant relationship between diabetes and blood pressure.\n",
    "\n",
    "Since all of these factors have positive coefficients, an increase in any of the values of these factors is predicted to result in an increase in systolic blood pressure.\n"
   ]
  },
  {
   "cell_type": "markdown",
   "metadata": {},
   "source": [
    "Assessing the model using r-squared"
   ]
  },
  {
   "cell_type": "code",
   "execution_count": 92,
   "metadata": {},
   "outputs": [
    {
     "name": "stdout",
     "output_type": "stream",
     "text": [
      "R-squared: 0.376\n"
     ]
    }
   ],
   "source": [
    "r_squared = model.rsquared\n",
    "print(f\"R-squared: {r_squared:.3f}\")"
   ]
  },
  {
   "cell_type": "markdown",
   "metadata": {},
   "source": [
    "Diagnostic Plots:"
   ]
  },
  {
   "cell_type": "code",
   "execution_count": 96,
   "metadata": {},
   "outputs": [
    {
     "data": {
      "image/png": "[encoded data removed]",
      "text/plain": [
       "<Figure size 864x360 with 2 Axes>"
      ]
     },
     "metadata": {
      "needs_background": "light"
     },
     "output_type": "display_data"
    }
   ],
   "source": [
    "# Residuals vs Fitted\n",
    "plt.figure(figsize=(12, 5))\n",
    "\n",
    "plt.subplot(1, 2, 1)\n",
    "plt.scatter(model.fittedvalues, model.resid)\n",
    "plt.axhline(0, linestyle='--', color='red')\n",
    "plt.title('Residuals vs Fitted')\n",
    "plt.xlabel('Fitted Values')\n",
    "plt.ylabel('Residuals')\n",
    "\n",
    "# Q-Q plot\n",
    "plt.subplot(1, 2, 2)\n",
    "sm.qqplot(model.resid, line='s', ax=plt.gca())\n",
    "plt.title('Q-Q Plot')\n",
    "\n",
    "plt.tight_layout()\n",
    "plt.show()"
   ]
  },
  {
   "cell_type": "markdown",
   "metadata": {},
   "source": [
    "### Part 2.2: Model treatment effectiveness:\n",
    "\n",
    "- Fit a GLM with binomial family to predict treatment success\n",
    "- Use baseline characteristics and adherence as predictors\n",
    "- Report odds ratios and their confidence intervals\n",
    "- Assess model fit using deviance and diagnostic plots\n",
    "\n",
    "Tips:\n",
    "- Create feature matrix X with predictors and add constant term\n",
    "- Use sm.GLM(y, X, family=sm.families.Binomial()).fit()\n",
    "- Get odds ratios with np.exp(params)\n",
    "- Check residual deviance vs null deviance\n",
    "- Use influence() to detect influential observations"
   ]
  },
  {
   "cell_type": "markdown",
   "metadata": {},
   "source": [
    "Preparing the data"
   ]
  },
  {
   "cell_type": "code",
   "execution_count": 97,
   "metadata": {},
   "outputs": [],
   "source": [
    "X_treatment = treatment[['age', 'bmi', 'smoking', 'diabetes', 'adherence']]\n",
    "X_treatment = sm.add_constant(X_treatment)  \n",
    "y_treatment = treatment['outcome']  "
   ]
  },
  {
   "cell_type": "markdown",
   "metadata": {},
   "source": [
    "Creating and fitting the Generalized Linear Model (GLM)"
   ]
  },
  {
   "cell_type": "code",
   "execution_count": 98,
   "metadata": {},
   "outputs": [],
   "source": [
    "model_treatment = sm.GLM(y_treatment, X_treatment, family=sm.families.Binomial()).fit()"
   ]
  },
  {
   "cell_type": "code",
   "execution_count": 99,
   "metadata": {},
   "outputs": [
    {
     "name": "stdout",
     "output_type": "stream",
     "text": [
      "                 Generalized Linear Model Regression Results                  \n",
      "==============================================================================\n",
      "Dep. Variable:                outcome   No. Observations:                 1000\n",
      "Model:                            GLM   Df Residuals:                      994\n",
      "Model Family:                Binomial   Df Model:                            5\n",
      "Link Function:                  Logit   Scale:                          1.0000\n",
      "Method:                          IRLS   Log-Likelihood:                -656.42\n",
      "Date:                Wed, 06 Nov 2024   Deviance:                       1312.8\n",
      "Time:                        00:42:20   Pearson chi2:                 1.00e+03\n",
      "No. Iterations:                     4   Pseudo R-squ. (CS):            0.01896\n",
      "Covariance Type:            nonrobust                                         \n",
      "==============================================================================\n",
      "                 coef    std err          z      P>|z|      [0.025      0.975]\n",
      "------------------------------------------------------------------------------\n",
      "const         -1.2681      0.691     -1.836      0.066      -2.622       0.085\n",
      "age            0.0027      0.005      0.575      0.565      -0.007       0.012\n",
      "bmi            0.0297      0.014      2.097      0.036       0.002       0.057\n",
      "smoking       -0.3887      0.202     -1.923      0.055      -0.785       0.008\n",
      "diabetes      -0.4887      0.171     -2.857      0.004      -0.824      -0.153\n",
      "adherence      0.1221      0.668      0.183      0.855      -1.186       1.430\n",
      "==============================================================================\n"
     ]
    }
   ],
   "source": [
    "print(model_treatment.summary())"
   ]
  },
  {
   "cell_type": "markdown",
   "metadata": {},
   "source": [
    "Reporting the Odds ratios and their confidence intervals"
   ]
  },
  {
   "cell_type": "code",
   "execution_count": 100,
   "metadata": {},
   "outputs": [
    {
     "name": "stdout",
     "output_type": "stream",
     "text": [
      "           Odds Ratio   2.5% CI  97.5% CI\n",
      "const        0.281360  0.072687  1.089105\n",
      "age          1.002744  0.993428  1.012147\n",
      "bmi          1.030101  1.001936  1.059058\n",
      "smoking      0.677929  0.456134  1.007574\n",
      "diabetes     0.613448  0.438726  0.857752\n",
      "adherence    1.129833  0.305350  4.180529\n"
     ]
    }
   ],
   "source": [
    "params = model_treatment.params\n",
    "\n",
    "# Calculate odds ratios\n",
    "odds_ratios = np.exp(params)  \n",
    "\n",
    "# Getting confidence intervals\n",
    "conf = model_treatment.conf_int()  \n",
    "\n",
    "# Transform confidence intervals to odds ratios\n",
    "conf_odds_ratios = np.exp(conf)  \n",
    "\n",
    "#Combining into a DataFrame and printing results\n",
    "odds_ratios_df = pd.DataFrame({\n",
    "    'Odds Ratio': odds_ratios,\n",
    "    '2.5% CI': conf_odds_ratios[0],\n",
    "    '97.5% CI': conf_odds_ratios[1]\n",
    "})\n",
    "\n",
    "print(odds_ratios_df)"
   ]
  },
  {
   "cell_type": "markdown",
   "metadata": {},
   "source": [
    "Assessing model fit using deviance:"
   ]
  },
  {
   "cell_type": "code",
   "execution_count": 103,
   "metadata": {},
   "outputs": [
    {
     "name": "stdout",
     "output_type": "stream",
     "text": [
      "Deviance:  1312.832088524959\n",
      "Null Deviance:  1331.9768185036041\n",
      "Difference (Deviance - Null Deviance)=  19.144729978645046\n"
     ]
    }
   ],
   "source": [
    "deviance = model_treatment.deviance\n",
    "null_deviance = model_treatment.null_deviance\n",
    "print(\"Deviance: \",deviance)\n",
    "print(\"Null Deviance: \",null_deviance)\n",
    "print(\"Difference (Deviance - Null Deviance)= \", null_deviance - deviance)"
   ]
  },
  {
   "cell_type": "markdown",
   "metadata": {},
   "source": [
    "Creating Diagnostics plots: \n",
    "\n",
    "First we create an influence plot"
   ]
  },
  {
   "cell_type": "code",
   "execution_count": 104,
   "metadata": {},
   "outputs": [
    {
     "data": {
      "image/png": "[encoded data removed]",
      "text/plain": [
       "<Figure size 432x288 with 1 Axes>"
      ]
     },
     "metadata": {
      "needs_background": "light"
     },
     "output_type": "display_data"
    }
   ],
   "source": [
    "influence = model_treatment.get_influence()\n",
    "influence_plot = influence.plot_influence()\n",
    "plt.title(\"Influence Plot\")\n",
    "plt.show()"
   ]
  },
  {
   "cell_type": "markdown",
   "metadata": {},
   "source": [
    "Plotting Residuals vs Fitted"
   ]
  },
  {
   "cell_type": "code",
   "execution_count": 105,
   "metadata": {},
   "outputs": [
    {
     "data": {
      "image/png": "[encoded data removed]",
      "text/plain": [
       "<Figure size 720x432 with 1 Axes>"
      ]
     },
     "metadata": {
      "needs_background": "light"
     },
     "output_type": "display_data"
    }
   ],
   "source": [
    "plt.figure(figsize=(10, 6))\n",
    "plt.scatter(model_treatment.fittedvalues, model_treatment.resid_pearson)\n",
    "plt.axhline(0, linestyle='--', color='red')\n",
    "plt.title('Residuals vs Fitted')\n",
    "plt.xlabel('Fitted Values')\n",
    "plt.ylabel('Pearson Residuals')\n",
    "plt.show()"
   ]
  },
  {
   "cell_type": "markdown",
   "metadata": {},
   "source": [
    "## Part 3 (Stretch Goal): Machine Learning Tasks"
   ]
  },
  {
   "cell_type": "markdown",
   "metadata": {},
   "source": [
    "### Part 3.0: sklearn imports"
   ]
  },
  {
   "cell_type": "code",
   "execution_count": 121,
   "metadata": {},
   "outputs": [],
   "source": [
    "from sklearn.pipeline import make_pipeline\n",
    "from sklearn.preprocessing import StandardScaler\n",
    "from sklearn.linear_model import LogisticRegression\n",
    "from sklearn.compose import ColumnTransformer\n",
    "from sklearn.preprocessing import OneHotEncoder\n",
    "from sklearn.feature_selection import SelectKBest, f_classif\n",
    "from sklearn.model_selection import train_test_split, StratifiedKFold, cross_validate\n",
    "from sklearn.metrics import classification_report, confusion_matrix, roc_curve, auc, precision_recall_curve, roc_auc_score"
   ]
  },
  {
   "cell_type": "markdown",
   "metadata": {},
   "source": [
    "### Part 3.1: Build a prediction pipeline:\n",
    "\n",
    "- Create features from baseline characteristics\n",
    "- Standardize numeric features using StandardScaler\n",
    "- Train a logistic regression model to predict treatment outcomes\n",
    "- Include regularization to prevent overfitting\n",
    "\n",
    "Tips: \n",
    "- Use ColumnTransformer for mixed numeric/categorical features\n",
    "- Consider SelectKBest or RFE for feature selection\n",
    "- Try different regularization strengths with C parameter\n",
    "- Use Pipeline to prevent data leakage"
   ]
  },
  {
   "cell_type": "code",
   "execution_count": 114,
   "metadata": {},
   "outputs": [],
   "source": [
    "X_new = treatment[['age','bmi','smoking','diabetes','sex','adherence']]\n",
    "y_new = treatment['outcome']\n",
    "\n",
    "\n",
    "X_train, X_test, y_train, y_test = train_test_split(X_new, y_new, test_size=0.2, random_state=42)"
   ]
  },
  {
   "cell_type": "code",
   "execution_count": 115,
   "metadata": {},
   "outputs": [],
   "source": [
    "numeric_features = ['age', 'bmi', 'smoking', 'diabetes']\n",
    "categorical_features = ['sex']  \n",
    "\n",
    "preprocessor = ColumnTransformer(\n",
    "    transformers=[\n",
    "        ('num', StandardScaler(), numeric_features),\n",
    "        ('cat', OneHotEncoder(), categorical_features)\n",
    "    ])"
   ]
  },
  {
   "cell_type": "code",
   "execution_count": 116,
   "metadata": {},
   "outputs": [],
   "source": [
    "pipeline = make_pipeline(\n",
    "    preprocessor,\n",
    "    SelectKBest(f_classif, k = 'all'),\n",
    "    LogisticRegression(\n",
    "        penalty = 'l2',\n",
    "        solver= 'lbfgs',\n",
    "        max_iter=1000,\n",
    "        class_weight='balanced'\n",
    "    )\n",
    ")"
   ]
  },
  {
   "cell_type": "code",
   "execution_count": 117,
   "metadata": {},
   "outputs": [
    {
     "data": {
      "text/plain": [
       "Pipeline(steps=[('columntransformer',\n",
       "                 ColumnTransformer(transformers=[('num', StandardScaler(),\n",
       "                                                  ['age', 'bmi', 'smoking',\n",
       "                                                   'diabetes']),\n",
       "                                                 ('cat', OneHotEncoder(),\n",
       "                                                  ['sex'])])),\n",
       "                ('selectkbest', SelectKBest(k='all')),\n",
       "                ('logisticregression',\n",
       "                 LogisticRegression(class_weight='balanced', max_iter=1000))])"
      ]
     },
     "execution_count": 117,
     "metadata": {},
     "output_type": "execute_result"
    }
   ],
   "source": [
    "pipeline.fit(X_train, y_train)"
   ]
  },
  {
   "cell_type": "code",
   "execution_count": 118,
   "metadata": {},
   "outputs": [],
   "source": [
    "y_pred = pipeline.predict(X_test)"
   ]
  },
  {
   "cell_type": "code",
   "execution_count": 120,
   "metadata": {},
   "outputs": [
    {
     "name": "stdout",
     "output_type": "stream",
     "text": [
      "              precision    recall  f1-score   support\n",
      "\n",
      "           0       0.66      0.56      0.60       127\n",
      "           1       0.39      0.49      0.44        73\n",
      "\n",
      "    accuracy                           0.54       200\n",
      "   macro avg       0.52      0.53      0.52       200\n",
      "weighted avg       0.56      0.54      0.54       200\n",
      "\n"
     ]
    }
   ],
   "source": [
    "print(classification_report(y_test,y_pred))"
   ]
  },
  {
   "cell_type": "markdown",
   "metadata": {},
   "source": [
    "### Part 3.2: Validate model performance:\n",
    "\n",
    "- Split data into 70% training and 30% test sets\n",
    "- Implement 5-fold cross-validation on the training set\n",
    "- Report accuracy, precision, recall, and ROC AUC\n",
    "- Generate confusion matrix and ROC curve\n",
    "\n",
    "Tips: \n",
    "- Use StratifiedKFold for imbalanced datasets\n",
    "- Consider precision-recall curve for imbalanced data\n",
    "- Plot learning curves to diagnose bias/variance\n",
    "- Use cross_validate for multiple metrics at once"
   ]
  },
  {
   "cell_type": "code",
   "execution_count": 123,
   "metadata": {},
   "outputs": [],
   "source": [
    "X_train, X_test, y_train, y_test = train_test_split(X_new, y_new, test_size=0.3, random_state=42)"
   ]
  },
  {
   "cell_type": "code",
   "execution_count": 124,
   "metadata": {},
   "outputs": [
    {
     "name": "stdout",
     "output_type": "stream",
     "text": [
      "Cross-validation results:\n",
      "Accuracy: 0.5729\n",
      "Precision: 0.4668\n",
      "Recall: 0.6077\n",
      "ROC AUC: 0.5859\n"
     ]
    }
   ],
   "source": [
    "cv = StratifiedKFold(n_splits = 5, shuffle=True, random_state=42)\n",
    "cv_results = cross_validate(\n",
    "    pipeline, X_train, y_train, cv = cv, scoring=['accuracy', 'precision', 'recall', 'roc_auc'],\n",
    "    return_train_score=False\n",
    ")\n",
    "\n",
    "print(\"Cross-validation results:\")\n",
    "print(f\"Accuracy: {cv_results['test_accuracy'].mean():.4f}\")\n",
    "print(f\"Precision: {cv_results['test_precision'].mean():.4f}\")\n",
    "print(f\"Recall: {cv_results['test_recall'].mean():.4f}\")\n",
    "print(f\"ROC AUC: {cv_results['test_roc_auc'].mean():.4f}\")\n"
   ]
  },
  {
   "cell_type": "code",
   "execution_count": 125,
   "metadata": {},
   "outputs": [
    {
     "data": {
      "text/plain": [
       "Pipeline(steps=[('columntransformer',\n",
       "                 ColumnTransformer(transformers=[('num', StandardScaler(),\n",
       "                                                  ['age', 'bmi', 'smoking',\n",
       "                                                   'diabetes']),\n",
       "                                                 ('cat', OneHotEncoder(),\n",
       "                                                  ['sex'])])),\n",
       "                ('selectkbest', SelectKBest(k='all')),\n",
       "                ('logisticregression',\n",
       "                 LogisticRegression(class_weight='balanced', max_iter=1000))])"
      ]
     },
     "execution_count": 125,
     "metadata": {},
     "output_type": "execute_result"
    }
   ],
   "source": [
    "pipeline.fit(X_train,y_train)"
   ]
  },
  {
   "cell_type": "code",
   "execution_count": 128,
   "metadata": {},
   "outputs": [],
   "source": [
    "y_pred = pipeline.predict(X_test)\n",
    "y_prob = pipeline.predict_proba(X_test)[:,1]"
   ]
  },
  {
   "cell_type": "code",
   "execution_count": 129,
   "metadata": {},
   "outputs": [
    {
     "name": "stdout",
     "output_type": "stream",
     "text": [
      "              precision    recall  f1-score   support\n",
      "\n",
      "           0       0.65      0.54      0.59       189\n",
      "           1       0.39      0.50      0.44       111\n",
      "\n",
      "    accuracy                           0.53       300\n",
      "   macro avg       0.52      0.52      0.52       300\n",
      "weighted avg       0.55      0.53      0.53       300\n",
      "\n"
     ]
    }
   ],
   "source": [
    "print(classification_report(y_test, y_pred))"
   ]
  },
  {
   "cell_type": "code",
   "execution_count": 130,
   "metadata": {},
   "outputs": [
    {
     "name": "stdout",
     "output_type": "stream",
     "text": [
      "0.5258830258830259\n"
     ]
    }
   ],
   "source": [
    "roc_auc = roc_auc_score(y_test, y_prob)\n",
    "print(roc_auc)"
   ]
  },
  {
   "cell_type": "code",
   "execution_count": 131,
   "metadata": {},
   "outputs": [
    {
     "data": {
      "image/png": "[encoded data removed]",
      "text/plain": [
       "<Figure size 432x432 with 1 Axes>"
      ]
     },
     "metadata": {
      "needs_background": "light"
     },
     "output_type": "display_data"
    }
   ],
   "source": [
    "cm = confusion_matrix(y_test, y_pred)\n",
    "plt.figure(figsize=(6, 6))\n",
    "sns.heatmap(cm, annot=True, fmt='d', cmap='Blues', cbar=False, xticklabels=['No', 'Yes'], yticklabels=['No', 'Yes'])\n",
    "plt.title('Confusion Matrix')\n",
    "plt.xlabel('Predicted')\n",
    "plt.ylabel('Actual')\n",
    "plt.show()"
   ]
  },
  {
   "cell_type": "code",
   "execution_count": 133,
   "metadata": {},
   "outputs": [
    {
     "data": {
      "image/png": "[encoded data removed]",
      "text/plain": [
       "<Figure size 576x432 with 1 Axes>"
      ]
     },
     "metadata": {
      "needs_background": "light"
     },
     "output_type": "display_data"
    }
   ],
   "source": [
    "a, b, c = roc_curve(y_test, y_prob)\n",
    "roc_auc = auc(a, b)\n",
    "\n",
    "plt.figure(figsize=(8, 6))\n",
    "plt.plot(a, b, color='darkorange', lw=2, label=f'ROC curve (area = {roc_auc:.2f})')\n",
    "plt.plot([0, 1], [0, 1], color='navy', lw=2, linestyle='--')\n",
    "plt.xlim([0.0, 1.0])\n",
    "plt.ylim([0.0, 1.05])\n",
    "plt.xlabel('False Positive Rate')\n",
    "plt.ylabel('True Positive Rate')\n",
    "plt.title('Receiver Operating Characteristic (ROC) Curve')\n",
    "plt.legend(loc='lower right')\n",
    "plt.show()\n"
   ]
  }
 ],
 "metadata": {
  "kernelspec": {
   "display_name": "base",
   "language": "python",
   "name": "python3"
  },
  "language_info": {
   "codemirror_mode": {
    "name": "ipython",
    "version": 3
   },
   "file_extension": ".py",
   "mimetype": "text/x-python",
   "name": "python",
   "nbconvert_exporter": "python",
   "pygments_lexer": "ipython3",
   "version": "3.9.12"
  }
 },
 "nbformat": 4,
 "nbformat_minor": 2
}
